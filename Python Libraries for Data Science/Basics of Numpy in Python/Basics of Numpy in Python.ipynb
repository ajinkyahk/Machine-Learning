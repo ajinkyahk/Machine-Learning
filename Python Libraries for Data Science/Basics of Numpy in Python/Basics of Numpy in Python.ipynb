{
 "cells": [
  {
   "cell_type": "markdown",
   "id": "8a7bb084",
   "metadata": {},
   "source": [
    "###  Numpy is the fundamental package for scientific computing with Python. It contains among other things:\n",
    "\n",
    "- A powerful N-dimentional array object \n",
    "- Sophiscated (broadcasting) functions \n",
    "- Tools for integrating C/C++ and Fortman code \n",
    "- Useful linear algebra, Fourier transform, and random number capabilities \n",
    "\n",
    "Source: https://numpy.org"
   ]
  },
  {
   "cell_type": "code",
   "execution_count": 1,
   "id": "3ab91cef",
   "metadata": {},
   "outputs": [],
   "source": [
    "# impoting the numpy liabrary\n",
    "import numpy as np "
   ]
  },
  {
   "cell_type": "markdown",
   "id": "7fdee34d",
   "metadata": {},
   "source": [
    "### If you got an error while running the above cell, import it by using the following command \n",
    "\n",
    "!pip3 install numpy "
   ]
  },
  {
   "cell_type": "code",
   "execution_count": 3,
   "id": "624c9b2e",
   "metadata": {},
   "outputs": [
    {
     "data": {
      "text/plain": [
       "'1.21.5'"
      ]
     },
     "execution_count": 3,
     "metadata": {},
     "output_type": "execute_result"
    }
   ],
   "source": [
    "# check the numpy library \n",
    "np.__version__"
   ]
  },
  {
   "cell_type": "code",
   "execution_count": 4,
   "id": "b52cd3b0",
   "metadata": {},
   "outputs": [
    {
     "data": {
      "text/plain": [
       "array([1, 4, 2, 5, 3])"
      ]
     },
     "execution_count": 4,
     "metadata": {},
     "output_type": "execute_result"
    }
   ],
   "source": [
    "# create the numpy array\n",
    "np.array([1,4,2,5,3])"
   ]
  },
  {
   "cell_type": "code",
   "execution_count": 5,
   "id": "8dc0a27a",
   "metadata": {},
   "outputs": [
    {
     "data": {
      "text/plain": [
       "[1, 4, '2', 5, False]"
      ]
     },
     "execution_count": 5,
     "metadata": {},
     "output_type": "execute_result"
    }
   ],
   "source": [
    "[1,4,'2', 5, False]"
   ]
  },
  {
   "cell_type": "code",
   "execution_count": 6,
   "id": "e68d0069",
   "metadata": {},
   "outputs": [
    {
     "data": {
      "text/plain": [
       "array(['1', '4', '2', '5', 'False'], dtype='<U11')"
      ]
     },
     "execution_count": 6,
     "metadata": {},
     "output_type": "execute_result"
    }
   ],
   "source": [
    "np.array([1,4,'2', 5, False])"
   ]
  },
  {
   "cell_type": "code",
   "execution_count": 7,
   "id": "27a7f994",
   "metadata": {},
   "outputs": [
    {
     "data": {
      "text/plain": [
       "[1, 4, 5, False]"
      ]
     },
     "execution_count": 7,
     "metadata": {},
     "output_type": "execute_result"
    }
   ],
   "source": [
    "[1,4, 5, False]"
   ]
  },
  {
   "cell_type": "code",
   "execution_count": 8,
   "id": "7a12140f",
   "metadata": {},
   "outputs": [
    {
     "data": {
      "text/plain": [
       "array([1, 4, 5, 0])"
      ]
     },
     "execution_count": 8,
     "metadata": {},
     "output_type": "execute_result"
    }
   ],
   "source": [
    "np.array([1,4, 5, False])"
   ]
  },
  {
   "cell_type": "code",
   "execution_count": 9,
   "id": "38db5a07",
   "metadata": {},
   "outputs": [
    {
     "data": {
      "text/plain": [
       "[False, True, 4, 6]"
      ]
     },
     "execution_count": 9,
     "metadata": {},
     "output_type": "execute_result"
    }
   ],
   "source": [
    "[False, True, 4, 6]"
   ]
  },
  {
   "cell_type": "code",
   "execution_count": 10,
   "id": "5306b088",
   "metadata": {},
   "outputs": [
    {
     "data": {
      "text/plain": [
       "array([0, 1, 4, 6])"
      ]
     },
     "execution_count": 10,
     "metadata": {},
     "output_type": "execute_result"
    }
   ],
   "source": [
    "np.array([False, True, 4, 6])"
   ]
  },
  {
   "cell_type": "markdown",
   "id": "b4858ad3",
   "metadata": {},
   "source": [
    "### Difference b/w numpy array and list \n",
    "\n",
    "- Data type should be same of all the elements in a numpy array whereas it be different in case of lists \n",
    "- **Broadcasting**: https://numpy.org/doc/stable/user/basics.broadcasting.html\n",
    "https://docs.scipy.org/doc//numpy-1.17.0/user/basics.broadcasting.html"
   ]
  },
  {
   "cell_type": "code",
   "execution_count": 11,
   "id": "d93fa78d",
   "metadata": {},
   "outputs": [
    {
     "data": {
      "text/plain": [
       "array(['1', '4', '2', '5', '3', 'False'], dtype='<U11')"
      ]
     },
     "execution_count": 11,
     "metadata": {},
     "output_type": "execute_result"
    }
   ],
   "source": [
    "# if we add an element of string data type in a numpy array whereas \n",
    "# then it will upcast the data type to string of all the elements.\n",
    "np.array([1,4,2,'5',3,False])"
   ]
  },
  {
   "cell_type": "markdown",
   "id": "a973c2cc",
   "metadata": {},
   "source": [
    "Now we will create one sample list and numpy array and  apply a very basic function of multiplication by 2. We will see that in case of list the elements are duplicated an appended to the list whereas in case of numpy array we got an array where all elements are multiplied by 2."
   ]
  },
  {
   "cell_type": "code",
   "execution_count": 16,
   "id": "ce8c39e6",
   "metadata": {},
   "outputs": [
    {
     "name": "stdout",
     "output_type": "stream",
     "text": [
      "[1, 2, 3, 4, 5, 6]\n"
     ]
    }
   ],
   "source": [
    "# create a sample list \n",
    "sample_list = [1,2,3,4,5,6]\n",
    "print(sample_list)"
   ]
  },
  {
   "cell_type": "code",
   "execution_count": 13,
   "id": "18a7f0f8",
   "metadata": {},
   "outputs": [
    {
     "data": {
      "text/plain": [
       "[1, 2, 3, 4, 5, 6, 1, 2, 3, 4, 5, 6]"
      ]
     },
     "execution_count": 13,
     "metadata": {},
     "output_type": "execute_result"
    }
   ],
   "source": [
    "sample_list*2"
   ]
  },
  {
   "cell_type": "code",
   "execution_count": 17,
   "id": "58f9c814",
   "metadata": {},
   "outputs": [
    {
     "data": {
      "text/plain": [
       "[1, 2, 3, 4, 5, 6, 1, 2, 3, 4, 5, 6, 1, 2, 3, 4, 5, 6]"
      ]
     },
     "execution_count": 17,
     "metadata": {},
     "output_type": "execute_result"
    }
   ],
   "source": [
    "sample_list*3"
   ]
  },
  {
   "cell_type": "code",
   "execution_count": 19,
   "id": "ccec1f1b",
   "metadata": {},
   "outputs": [
    {
     "data": {
      "text/plain": [
       "array([1, 2, 3, 4, 5, 6])"
      ]
     },
     "execution_count": 19,
     "metadata": {},
     "output_type": "execute_result"
    }
   ],
   "source": [
    "# create a numpy array \n",
    "sample_numpy_array = np.array([1,2,3,4,5,6])\n",
    "sample_numpy_array"
   ]
  },
  {
   "cell_type": "code",
   "execution_count": 20,
   "id": "9da6ad4b",
   "metadata": {},
   "outputs": [
    {
     "data": {
      "text/plain": [
       "array([ 2,  4,  6,  8, 10, 12])"
      ]
     },
     "execution_count": 20,
     "metadata": {},
     "output_type": "execute_result"
    }
   ],
   "source": [
    "sample_numpy_array*2"
   ]
  },
  {
   "cell_type": "code",
   "execution_count": 22,
   "id": "6b494522",
   "metadata": {},
   "outputs": [
    {
     "data": {
      "text/plain": [
       "array([0.33333333, 0.66666667, 1.        , 1.33333333, 1.66666667,\n",
       "       2.        ])"
      ]
     },
     "execution_count": 22,
     "metadata": {},
     "output_type": "execute_result"
    }
   ],
   "source": [
    "sample_numpy_array/3"
   ]
  },
  {
   "cell_type": "markdown",
   "id": "d00f810e",
   "metadata": {},
   "source": [
    "Create a matrix using numpy "
   ]
  },
  {
   "cell_type": "code",
   "execution_count": 14,
   "id": "1b03ae2f",
   "metadata": {},
   "outputs": [],
   "source": [
    "a = [[1,2,3],\n",
    "     [4,5,6],\n",
    "     [7,8,9]]"
   ]
  },
  {
   "cell_type": "code",
   "execution_count": 15,
   "id": "70689cc1",
   "metadata": {},
   "outputs": [
    {
     "data": {
      "text/plain": [
       "[[1, 2, 3], [4, 5, 6], [7, 8, 9]]"
      ]
     },
     "execution_count": 15,
     "metadata": {},
     "output_type": "execute_result"
    }
   ],
   "source": [
    "a"
   ]
  },
  {
   "cell_type": "code",
   "execution_count": 24,
   "id": "8765dce5",
   "metadata": {},
   "outputs": [],
   "source": [
    "# MATRIX \n",
    "a = np.array(a)"
   ]
  },
  {
   "cell_type": "code",
   "execution_count": 25,
   "id": "13952a91",
   "metadata": {},
   "outputs": [
    {
     "data": {
      "text/plain": [
       "array([[1, 2, 3],\n",
       "       [4, 5, 6],\n",
       "       [7, 8, 9]])"
      ]
     },
     "execution_count": 25,
     "metadata": {},
     "output_type": "execute_result"
    }
   ],
   "source": [
    "a"
   ]
  },
  {
   "cell_type": "code",
   "execution_count": 26,
   "id": "1e1fa974",
   "metadata": {},
   "outputs": [
    {
     "data": {
      "text/plain": [
       "2"
      ]
     },
     "execution_count": 26,
     "metadata": {},
     "output_type": "execute_result"
    }
   ],
   "source": [
    "a[0][1]"
   ]
  },
  {
   "cell_type": "code",
   "execution_count": 27,
   "id": "e120cfff",
   "metadata": {},
   "outputs": [
    {
     "data": {
      "text/plain": [
       "array([1, 2, 3])"
      ]
     },
     "execution_count": 27,
     "metadata": {},
     "output_type": "execute_result"
    }
   ],
   "source": [
    "a[0]"
   ]
  },
  {
   "cell_type": "code",
   "execution_count": 28,
   "id": "9f1e10f9",
   "metadata": {},
   "outputs": [
    {
     "data": {
      "text/plain": [
       "array([[1, 2, 3],\n",
       "       [4, 5, 6],\n",
       "       [7, 8, 9]])"
      ]
     },
     "execution_count": 28,
     "metadata": {},
     "output_type": "execute_result"
    }
   ],
   "source": [
    "b = np.array([[1,2,3],\n",
    "              [4,5,6],\n",
    "              [7,8,9]])\n",
    "b"
   ]
  },
  {
   "cell_type": "code",
   "execution_count": 33,
   "id": "ef0e5089",
   "metadata": {},
   "outputs": [
    {
     "data": {
      "text/plain": [
       "array([[8, 1, 5],\n",
       "       [9, 8, 9],\n",
       "       [4, 3, 0]])"
      ]
     },
     "execution_count": 33,
     "metadata": {},
     "output_type": "execute_result"
    }
   ],
   "source": [
    "# Create a 3x3 array of random integers in the interval [0,10]\n",
    "np.random.randint(0,10,(3,3))"
   ]
  },
  {
   "cell_type": "code",
   "execution_count": 34,
   "id": "b1253851",
   "metadata": {},
   "outputs": [
    {
     "data": {
      "text/plain": [
       "array([[3, 5, 0],\n",
       "       [2, 3, 8],\n",
       "       [1, 3, 3]])"
      ]
     },
     "execution_count": 34,
     "metadata": {},
     "output_type": "execute_result"
    }
   ],
   "source": [
    "# cerate another matrix \n",
    "np.random.randint(0,10,(3,3))"
   ]
  },
  {
   "cell_type": "markdown",
   "id": "0f766654",
   "metadata": {},
   "source": [
    "We got a different matrix when we generated another random matrix: We can get the same matrix again by fixing the seed. Let's see how?"
   ]
  },
  {
   "cell_type": "code",
   "execution_count": 35,
   "id": "dd8b5d61",
   "metadata": {},
   "outputs": [
    {
     "data": {
      "text/plain": [
       "array([[5, 0, 3],\n",
       "       [3, 7, 9],\n",
       "       [3, 5, 2]])"
      ]
     },
     "execution_count": 35,
     "metadata": {},
     "output_type": "execute_result"
    }
   ],
   "source": [
    "# fixing the random seed\n",
    "np.random.seed(0)\n",
    "np.random.randint(0,10,(3,3))"
   ]
  },
  {
   "cell_type": "code",
   "execution_count": 36,
   "id": "53ae46f1",
   "metadata": {},
   "outputs": [
    {
     "data": {
      "text/plain": [
       "array([[5, 0, 3],\n",
       "       [3, 7, 9],\n",
       "       [3, 5, 2]])"
      ]
     },
     "execution_count": 36,
     "metadata": {},
     "output_type": "execute_result"
    }
   ],
   "source": [
    "# fixing the random seed\n",
    "np.random.seed(0)\n",
    "np.random.randint(0,10,(3,3))"
   ]
  },
  {
   "cell_type": "code",
   "execution_count": 45,
   "id": "57883b3a",
   "metadata": {},
   "outputs": [
    {
     "data": {
      "text/plain": [
       "array([[8, 8, 6],\n",
       "       [2, 8, 7],\n",
       "       [2, 1, 5]])"
      ]
     },
     "execution_count": 45,
     "metadata": {},
     "output_type": "execute_result"
    }
   ],
   "source": [
    "# fixing the random seed\n",
    "np.random.seed(2)\n",
    "np.random.randint(0,10,(3,3))"
   ]
  },
  {
   "cell_type": "code",
   "execution_count": 47,
   "id": "050eddf1",
   "metadata": {},
   "outputs": [
    {
     "data": {
      "text/plain": [
       "array([[8, 8, 6],\n",
       "       [2, 8, 7],\n",
       "       [2, 1, 5]])"
      ]
     },
     "execution_count": 47,
     "metadata": {},
     "output_type": "execute_result"
    }
   ],
   "source": [
    "# fixing the random seed\n",
    "np.random.seed(2)\n",
    "np.random.randint(0,10,(3,3))"
   ]
  },
  {
   "cell_type": "code",
   "execution_count": 48,
   "id": "9d03463c",
   "metadata": {},
   "outputs": [
    {
     "data": {
      "text/plain": [
       "array([[5, 0, 3],\n",
       "       [3, 7, 9],\n",
       "       [3, 5, 2]])"
      ]
     },
     "execution_count": 48,
     "metadata": {},
     "output_type": "execute_result"
    }
   ],
   "source": [
    "# fixing the random seed\n",
    "np.random.seed(0)\n",
    "np.random.randint(0,10,(3,3))"
   ]
  },
  {
   "cell_type": "code",
   "execution_count": 49,
   "id": "d6499ecc",
   "metadata": {},
   "outputs": [
    {
     "data": {
      "text/plain": [
       "array([[5, 0, 3],\n",
       "       [3, 7, 9],\n",
       "       [3, 5, 2]])"
      ]
     },
     "execution_count": 49,
     "metadata": {},
     "output_type": "execute_result"
    }
   ],
   "source": [
    "# fixing the random seed\n",
    "np.random.seed(0)\n",
    "np.random.randint(0,10,(3,3))"
   ]
  },
  {
   "cell_type": "code",
   "execution_count": 50,
   "id": "57135553",
   "metadata": {},
   "outputs": [
    {
     "data": {
      "text/plain": [
       "array([[8, 2, 2],\n",
       "       [1, 9, 2],\n",
       "       [5, 3, 6]])"
      ]
     },
     "execution_count": 50,
     "metadata": {},
     "output_type": "execute_result"
    }
   ],
   "source": [
    "# fixing the random seed\n",
    "np.random.seed()\n",
    "np.random.randint(0,10,(3,3))"
   ]
  },
  {
   "cell_type": "code",
   "execution_count": 51,
   "id": "634d8952",
   "metadata": {},
   "outputs": [
    {
     "data": {
      "text/plain": [
       "array([[2, 1, 2],\n",
       "       [8, 8, 5],\n",
       "       [0, 3, 5]])"
      ]
     },
     "execution_count": 51,
     "metadata": {},
     "output_type": "execute_result"
    }
   ],
   "source": [
    "# fixing the random seed\n",
    "np.random.seed()\n",
    "np.random.randint(0,10,(3,3))"
   ]
  },
  {
   "cell_type": "markdown",
   "id": "0bac17a3",
   "metadata": {},
   "source": [
    "Create a matrix of Zeroes of specific dimension. "
   ]
  },
  {
   "cell_type": "code",
   "execution_count": 53,
   "id": "9005daa6",
   "metadata": {},
   "outputs": [
    {
     "data": {
      "text/plain": [
       "array([[0, 0, 0, 0],\n",
       "       [0, 0, 0, 0],\n",
       "       [0, 0, 0, 0]])"
      ]
     },
     "execution_count": 53,
     "metadata": {},
     "output_type": "execute_result"
    }
   ],
   "source": [
    "# Create a 3x4 integer array filled with zeroes\n",
    "np.zeros((3,4), dtype=int)"
   ]
  },
  {
   "cell_type": "markdown",
   "id": "070b61a8",
   "metadata": {},
   "source": [
    "Create matrix of Ones of specific dimension."
   ]
  },
  {
   "cell_type": "code",
   "execution_count": 54,
   "id": "f24fbb48",
   "metadata": {},
   "outputs": [
    {
     "data": {
      "text/plain": [
       "array([[1, 1, 1, 1, 1],\n",
       "       [1, 1, 1, 1, 1],\n",
       "       [1, 1, 1, 1, 1],\n",
       "       [1, 1, 1, 1, 1]])"
      ]
     },
     "execution_count": 54,
     "metadata": {},
     "output_type": "execute_result"
    }
   ],
   "source": [
    "np.ones((4,5), dtype=int)"
   ]
  },
  {
   "cell_type": "code",
   "execution_count": 57,
   "id": "3839d854",
   "metadata": {},
   "outputs": [
    {
     "data": {
      "text/plain": [
       "array([[1, 0, 0, 0, 0],\n",
       "       [0, 1, 0, 0, 0],\n",
       "       [0, 0, 1, 0, 0],\n",
       "       [0, 0, 0, 1, 0],\n",
       "       [0, 0, 0, 0, 1]])"
      ]
     },
     "execution_count": 57,
     "metadata": {},
     "output_type": "execute_result"
    }
   ],
   "source": [
    "np.identity(5, dtype=int)"
   ]
  },
  {
   "cell_type": "markdown",
   "id": "e3317ef4",
   "metadata": {},
   "source": [
    "Create a matrix with any specific number of specific dimension."
   ]
  },
  {
   "cell_type": "code",
   "execution_count": 55,
   "id": "d31e16f6",
   "metadata": {},
   "outputs": [
    {
     "data": {
      "text/plain": [
       "array([[3.14, 3.14, 3.14, 3.14, 3.14],\n",
       "       [3.14, 3.14, 3.14, 3.14, 3.14],\n",
       "       [3.14, 3.14, 3.14, 3.14, 3.14]])"
      ]
     },
     "execution_count": 55,
     "metadata": {},
     "output_type": "execute_result"
    }
   ],
   "source": [
    "# Create a 3x5 array filled with 3.14\n",
    "np.full((3,5), 3.14)"
   ]
  },
  {
   "cell_type": "markdown",
   "id": "d5910f06",
   "metadata": {},
   "source": [
    "array concatenation"
   ]
  },
  {
   "cell_type": "code",
   "execution_count": 61,
   "id": "6829e0a6",
   "metadata": {},
   "outputs": [
    {
     "name": "stdout",
     "output_type": "stream",
     "text": [
      "matrix1\n"
     ]
    },
    {
     "data": {
      "text/plain": [
       "array([[1, 2, 3],\n",
       "       [4, 5, 6]])"
      ]
     },
     "execution_count": 61,
     "metadata": {},
     "output_type": "execute_result"
    }
   ],
   "source": [
    "# concatenation in 2-d arrays \n",
    "matrix1 = np.array([[1,2,3],\n",
    "                 [4,5,6]])\n",
    "print(\"matrix1\")\n",
    "matrix1"
   ]
  },
  {
   "cell_type": "code",
   "execution_count": 62,
   "id": "2b99a7ad",
   "metadata": {},
   "outputs": [
    {
     "name": "stdout",
     "output_type": "stream",
     "text": [
      "matrix2\n"
     ]
    },
    {
     "data": {
      "text/plain": [
       "array([[ 7,  8,  9],\n",
       "       [10, 11, 12]])"
      ]
     },
     "execution_count": 62,
     "metadata": {},
     "output_type": "execute_result"
    }
   ],
   "source": [
    "matrix2 = np.array([[7,8,9],\n",
    "                   [10,11,12]])\n",
    "print('matrix2')\n",
    "matrix2"
   ]
  },
  {
   "cell_type": "code",
   "execution_count": 63,
   "id": "204bd15b",
   "metadata": {},
   "outputs": [
    {
     "name": "stdout",
     "output_type": "stream",
     "text": [
      "Combined on Row (axis=0)\n"
     ]
    },
    {
     "data": {
      "text/plain": [
       "array([[ 1,  2,  3],\n",
       "       [ 4,  5,  6],\n",
       "       [ 7,  8,  9],\n",
       "       [10, 11, 12]])"
      ]
     },
     "execution_count": 63,
     "metadata": {},
     "output_type": "execute_result"
    }
   ],
   "source": [
    "# concatinate along the first the axis \n",
    "matrix_1_2_combineRowWise = np.concatenate([matrix1, matrix2], axis=0)\n",
    "print('Combined on Row (axis=0)')\n",
    "matrix_1_2_combineRowWise"
   ]
  },
  {
   "cell_type": "markdown",
   "id": "4a46beb2",
   "metadata": {},
   "source": [
    "Concatenate Columnwise"
   ]
  },
  {
   "cell_type": "code",
   "execution_count": 65,
   "id": "15bbaca5",
   "metadata": {},
   "outputs": [
    {
     "name": "stdout",
     "output_type": "stream",
     "text": [
      "Combined on Column (axis=1)\n"
     ]
    },
    {
     "data": {
      "text/plain": [
       "array([[ 1,  2,  3,  7,  8,  9],\n",
       "       [ 4,  5,  6, 10, 11, 12]])"
      ]
     },
     "execution_count": 65,
     "metadata": {},
     "output_type": "execute_result"
    }
   ],
   "source": [
    "matrix_1_2_combineColumnWise = np.concatenate([matrix1, matrix2], axis=1)\n",
    "print('Combined on Column (axis=1)')\n",
    "matrix_1_2_combineColumnWise"
   ]
  },
  {
   "cell_type": "code",
   "execution_count": null,
   "id": "e6b19056",
   "metadata": {},
   "outputs": [],
   "source": []
  }
 ],
 "metadata": {
  "kernelspec": {
   "display_name": "Python 3 (ipykernel)",
   "language": "python",
   "name": "python3"
  },
  "language_info": {
   "codemirror_mode": {
    "name": "ipython",
    "version": 3
   },
   "file_extension": ".py",
   "mimetype": "text/x-python",
   "name": "python",
   "nbconvert_exporter": "python",
   "pygments_lexer": "ipython3",
   "version": "3.9.12"
  }
 },
 "nbformat": 4,
 "nbformat_minor": 5
}
