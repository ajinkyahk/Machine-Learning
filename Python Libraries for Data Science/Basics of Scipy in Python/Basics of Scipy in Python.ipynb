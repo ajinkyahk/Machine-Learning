{
 "cells": [
  {
   "cell_type": "markdown",
   "id": "b5b07fb5",
   "metadata": {},
   "source": [
    "# Scipy\n",
    "\n",
    "Scipy is a open source scientific library for python. The SciPy library depends on NumPy, which provides convenient and fast N-dimentional array manipulation."
   ]
  },
  {
   "cell_type": "code",
   "execution_count": 1,
   "id": "51f230d8",
   "metadata": {},
   "outputs": [],
   "source": [
    "# import the scipy library\n",
    "import scipy"
   ]
  },
  {
   "cell_type": "markdown",
   "id": "6556a630",
   "metadata": {},
   "source": [
    "If you got an error while running the above cell, \n",
    "import it by using the following command\n",
    "\n",
    "!pip3 install scipy\n",
    "!pip install scipy==version number\n"
   ]
  },
  {
   "cell_type": "code",
   "execution_count": 3,
   "id": "11412d3b",
   "metadata": {},
   "outputs": [
    {
     "data": {
      "text/plain": [
       "'1.7.3'"
      ]
     },
     "execution_count": 3,
     "metadata": {},
     "output_type": "execute_result"
    }
   ],
   "source": [
    "# check the version of scipy\n",
    "scipy.__version__"
   ]
  },
  {
   "cell_type": "code",
   "execution_count": 4,
   "id": "86331cb6",
   "metadata": {},
   "outputs": [],
   "source": [
    "# import the derivative from scipy\n",
    "from scipy.misc import derivative"
   ]
  },
  {
   "cell_type": "code",
   "execution_count": 5,
   "id": "96201dd3",
   "metadata": {},
   "outputs": [
    {
     "data": {
      "text/plain": [
       "5.0"
      ]
     },
     "execution_count": 5,
     "metadata": {},
     "output_type": "execute_result"
    }
   ],
   "source": [
    "# define the function \n",
    "def my_function(x):\n",
    "    return x**2+x+1\n",
    "\n",
    "# calculate the first derivative of the function at x=2\n",
    "derivative(func=my_function, x0=2)"
   ]
  },
  {
   "cell_type": "markdown",
   "id": "28611c60",
   "metadata": {},
   "source": [
    "Function : f(x) = x**2 + x +1 \n",
    "\n",
    "Derivative : f'(x) = 2*x + 1\n",
    "\n",
    "solution : f'(2) = 2*2 + 1 = 5\n",
    "\n",
    "Now, calculate the second derivative "
   ]
  },
  {
   "cell_type": "code",
   "execution_count": 7,
   "id": "7c7e8806",
   "metadata": {},
   "outputs": [
    {
     "data": {
      "text/plain": [
       "2.0"
      ]
     },
     "execution_count": 7,
     "metadata": {},
     "output_type": "execute_result"
    }
   ],
   "source": [
    "derivative(func=my_function, x0=2, n=2)"
   ]
  },
  {
   "cell_type": "markdown",
   "id": "80b063f7",
   "metadata": {},
   "source": [
    "### PERMUTATION AND COMBINATIONS"
   ]
  },
  {
   "cell_type": "code",
   "execution_count": 8,
   "id": "97b40602",
   "metadata": {},
   "outputs": [
    {
     "name": "stdout",
     "output_type": "stream",
     "text": [
      "6.0\n"
     ]
    }
   ],
   "source": [
    "# COMBINATIOBS \n",
    "from scipy.special import comb\n",
    "# total number of combination from 4 different values taken 2 at a time \n",
    "com = comb(4, 2)\n",
    "\n",
    "print(com)\n"
   ]
  },
  {
   "cell_type": "code",
   "execution_count": 9,
   "id": "5a077743",
   "metadata": {},
   "outputs": [
    {
     "name": "stdout",
     "output_type": "stream",
     "text": [
      "12.0\n"
     ]
    }
   ],
   "source": [
    "# PERMUTATIONS: Value of 4P2\n",
    "from scipy.special import perm\n",
    "per = perm(4,2)\n",
    "\n",
    "print(per)"
   ]
  },
  {
   "cell_type": "markdown",
   "id": "f13ca330",
   "metadata": {},
   "source": [
    "LINEAR ALGEBRA"
   ]
  },
  {
   "cell_type": "code",
   "execution_count": 10,
   "id": "bed31948",
   "metadata": {},
   "outputs": [],
   "source": [
    "# import linear algebra and numpy \n",
    "from scipy import linalg\n",
    "import numpy as np"
   ]
  },
  {
   "cell_type": "code",
   "execution_count": 11,
   "id": "90de21f0",
   "metadata": {},
   "outputs": [],
   "source": [
    "# square matrix \n",
    "matrix = np.array([[1,5,2],\n",
    "                  [3,2,1],\n",
    "                  [1,2,1]])"
   ]
  },
  {
   "cell_type": "code",
   "execution_count": 12,
   "id": "bd122cb4",
   "metadata": {},
   "outputs": [
    {
     "data": {
      "text/plain": [
       "array([[1, 5, 2],\n",
       "       [3, 2, 1],\n",
       "       [1, 2, 1]])"
      ]
     },
     "execution_count": 12,
     "metadata": {},
     "output_type": "execute_result"
    }
   ],
   "source": [
    "matrix"
   ]
  },
  {
   "cell_type": "code",
   "execution_count": 13,
   "id": "9a27d2eb",
   "metadata": {},
   "outputs": [
    {
     "data": {
      "text/plain": [
       "-1.9999999999999998"
      ]
     },
     "execution_count": 13,
     "metadata": {},
     "output_type": "execute_result"
    }
   ],
   "source": [
    "# pass value to det() function\n",
    "linalg.det(matrix)"
   ]
  },
  {
   "cell_type": "code",
   "execution_count": 14,
   "id": "9d2778e9",
   "metadata": {},
   "outputs": [
    {
     "data": {
      "text/plain": [
       "array([[ 2.77555756e-17,  5.00000000e-01, -5.00000000e-01],\n",
       "       [ 1.00000000e+00,  5.00000000e-01, -2.50000000e+00],\n",
       "       [-2.00000000e+00, -1.50000000e+00,  6.50000000e+00]])"
      ]
     },
     "execution_count": 14,
     "metadata": {},
     "output_type": "execute_result"
    }
   ],
   "source": [
    "# inverse of a matrix \n",
    "linalg.inv(matrix)"
   ]
  },
  {
   "cell_type": "markdown",
   "id": "11239888",
   "metadata": {},
   "source": [
    "**Learn more about SciPy here:** https://docs.scipy.org/doc/"
   ]
  },
  {
   "cell_type": "code",
   "execution_count": null,
   "id": "8982a8ad",
   "metadata": {},
   "outputs": [],
   "source": []
  }
 ],
 "metadata": {
  "kernelspec": {
   "display_name": "Python 3 (ipykernel)",
   "language": "python",
   "name": "python3"
  },
  "language_info": {
   "codemirror_mode": {
    "name": "ipython",
    "version": 3
   },
   "file_extension": ".py",
   "mimetype": "text/x-python",
   "name": "python",
   "nbconvert_exporter": "python",
   "pygments_lexer": "ipython3",
   "version": "3.9.12"
  }
 },
 "nbformat": 4,
 "nbformat_minor": 5
}
